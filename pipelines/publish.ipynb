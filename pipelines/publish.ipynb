{
 "cells": [
  {
   "cell_type": "code",
   "execution_count": 1,
   "id": "e90e5625-1509-4ae5-a2a8-edf84c867cf2",
   "metadata": {
    "tags": []
   },
   "outputs": [],
   "source": [
    "from saxonche import *"
   ]
  },
  {
   "cell_type": "markdown",
   "id": "a49b7d8f-698d-407f-bc27-37a78a03b3f0",
   "metadata": {},
   "source": [
    "# Method 1"
   ]
  },
  {
   "cell_type": "code",
   "execution_count": 21,
   "id": "e9cd5959-f466-41e5-a7e4-1945931bd87b",
   "metadata": {
    "tags": []
   },
   "outputs": [],
   "source": [
    "# Put these into a config file\n",
    "transforms = {\n",
    "    \"PV\": [\n",
    "        (\"../collections/popol-wuj/xom-all-flat-mod-pnums.xml\", \n",
    "         \"../transformers/add-lb-ids.xsl\", \n",
    "         \"../tmp/xom-all-flat-mod-pnums-lbids.xml\"),\n",
    "        (\"../tmp/xom-all-flat-mod-pnums-lbids.xml\", \n",
    "         \"../transformers/tei-to-html.xsl\",\n",
    "         \"../docs/xom-all-flat-mod-pnums-lbids.html\")\n",
    "    ],\n",
    "    \"Escolios\": [\n",
    "        (\"../collections/popol-wuj-escolios/xom-escolios-v1.xml\", \n",
    "         \"../transformers/add-lb-ids.xsl\",\n",
    "         \"../tmp/xom-escolios-v1-lbids.xml\"),\n",
    "        (\"../tmp/xom-escolios-v1-lbids.xml\", \n",
    "         \"../transformers/tei-to-html.xsl\", \n",
    "         \"../docs/xom-escolios-v1-lbids.html\")\n",
    "    ],\n",
    "    \"Aj Tzibab K'iche\": [    \n",
    "        (\"../collections/popolwuj-ajtzibab-kiche/source.v1.tei.xml\", \n",
    "         \"../transformers/add-lb-ids.xsl\", \n",
    "         \"../tmp/popolwuj-ajtzibab-kiche-source.v1.tei-lbids.xml\"),\n",
    "        (\"../tmp/popolwuj-ajtzibab-kiche-source.v1.tei-lbids.xml\", \n",
    "         \"../transformers/tei-to-html.xsl\", \n",
    "         \"../docs/popolwuj-ajtzibab-kiche-source.v1.tei-lbids.html\")\n",
    "    ]\n",
    "}"
   ]
  },
  {
   "cell_type": "code",
   "execution_count": 22,
   "id": "a42439f3-27b2-414e-b8ca-2fe3ffad88bb",
   "metadata": {
    "tags": []
   },
   "outputs": [
    {
     "name": "stdout",
     "output_type": "stream",
     "text": [
      "Publishing PV\n",
      "Publishing Escolios\n",
      "Publishing Aj Tzibab K'iche\n",
      "Done.\n"
     ]
    }
   ],
   "source": [
    "with PySaxonProcessor(license=False) as proc:\n",
    "    xsltproc = proc.new_xslt30_processor()        \n",
    "    for pub in transforms:\n",
    "        print(\"Publishing\", pub)\n",
    "        for i, transform in enumerate(transforms[pub]):\n",
    "            src, xsl, dst = transform\n",
    "            doc = proc.parse_xml(xml_text=open(src, 'r').read())\n",
    "            exec = xsltproc.compile_stylesheet(stylesheet_file=xsl)\n",
    "            exec.transform_to_file(xdm_node=doc, output_file=dst)\n",
    "print(\"Done.\")"
   ]
  },
  {
   "cell_type": "markdown",
   "id": "4a58f328-8bbc-4d3a-ac5a-989a49c53738",
   "metadata": {},
   "source": [
    "# Method 2"
   ]
  },
  {
   "cell_type": "code",
   "execution_count": 25,
   "id": "a5d6c72b-3176-4cec-b61f-d27d75b40df3",
   "metadata": {
    "tags": []
   },
   "outputs": [],
   "source": [
    "proj_root = \"..\"\n",
    "xsl1 = f\"{proj_root}/transformers/add-lb-ids.xsl\"\n",
    "xsl2 = f\"{proj_root}/transformers/tei-to-html.xsl\"\n",
    "doc_root = f\"{proj_root}/collections\"\n",
    "docs = [\n",
    "    f\"{doc_root}/popol-wuj/xom-all-flat-mod-pnums.xml\", \n",
    "    f\"{doc_root}/popol-wuj-escolios/xom-escolios-v1.xml\",\n",
    "    f\"{doc_root}/popolwuj-ajtzibab-kiche/source.v1.tei.xml\"    \n",
    "]"
   ]
  },
  {
   "cell_type": "code",
   "execution_count": 26,
   "id": "a9f51078-7922-4e88-9455-2ac2121590d4",
   "metadata": {
    "tags": []
   },
   "outputs": [
    {
     "name": "stdout",
     "output_type": "stream",
     "text": [
      "Done.\n"
     ]
    }
   ],
   "source": [
    "with PySaxonProcessor(license=False) as proc:\n",
    "    \n",
    "    xsltproc = proc.new_xslt30_processor()   \n",
    "    exec1 = xsltproc.compile_stylesheet(stylesheet_file=xsl1)\n",
    "    exec2 = xsltproc.compile_stylesheet(stylesheet_file=xsl2)\n",
    "\n",
    "    for doc1_name in docs:\n",
    "        \n",
    "        doc2_name = doc1_name.replace(\".xml\", \"-libids.xml\").replace(\"/collections/\", \"/tmp/\")\n",
    "        doc1 = proc.parse_xml(xml_text=open(doc1_name, 'r').read())\n",
    "        exec1.transform_to_file(xdm_node=doc1, output_file=doc2_name) \n",
    "        \n",
    "        doc3_name = doc2_name.replace(\".xml\", \".html\").replace(\"/tmp/\", \"/docs/\")\n",
    "        doc2 = proc.parse_xml(xml_text=open(doc2_name, 'r').read())\n",
    "        exec2.transform_to_file(xdm_node=doc2, output_file=doc3_name) \n",
    "\n",
    "print(\"Done.\")"
   ]
  },
  {
   "cell_type": "code",
   "execution_count": null,
   "id": "1b72eeda-6ac0-493d-9914-cccbe409a53e",
   "metadata": {},
   "outputs": [],
   "source": []
  }
 ],
 "metadata": {
  "kernelspec": {
   "display_name": "Python 3",
   "language": "python",
   "name": "python3"
  },
  "language_info": {
   "codemirror_mode": {
    "name": "ipython",
    "version": 3
   },
   "file_extension": ".py",
   "mimetype": "text/x-python",
   "name": "python",
   "nbconvert_exporter": "python",
   "pygments_lexer": "ipython3",
   "version": "3.11.4"
  }
 },
 "nbformat": 4,
 "nbformat_minor": 5
}
